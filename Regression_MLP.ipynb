{
 "cells": [
  {
   "cell_type": "markdown",
   "metadata": {},
   "source": [
    "## Example of numeric regression with a MLP\n",
    "\n",
    "Numeric regression of a quadratic function."
   ]
  },
  {
   "cell_type": "code",
   "execution_count": 1,
   "metadata": {},
   "outputs": [
    {
     "data": {
      "text/plain": [
       "<matplotlib.collections.PathCollection at 0x7f1e8bdca710>"
      ]
     },
     "execution_count": 1,
     "metadata": {},
     "output_type": "execute_result"
    },
    {
     "data": {
      "image/png": "[encoded data removed]",
      "text/plain": [
       "<Figure size 432x288 with 1 Axes>"
      ]
     },
     "metadata": {},
     "output_type": "display_data"
    }
   ],
   "source": [
    "import numpy as np\n",
    "import matplotlib.pyplot as plt\n",
    "import seaborn as sns\n",
    "%matplotlib inline\n",
    "\n",
    "sns.set_style(style = 'whitegrid')\n",
    "plt.rcParams[\"patch.force_edgecolor\"] = True\n",
    "\n",
    "# Creating data points\n",
    "N = 126 # number of points\n",
    "min_x = 0\n",
    "max_x = 8\n",
    "a = 0.5            # function coefficient\n",
    "x_v = 3            # x component of the parabola's vertix\n",
    "b = -(x_v * 2 * a) # function coefficient\n",
    "c = 5              # function coefficient\n",
    "\n",
    "x = np.linspace(min_x, max_x, N)\n",
    "noise = np.random.randn(N)\n",
    "y = x**2 * a + x * b + c + noise\n",
    "\n",
    "# Visualizando dados\n",
    "plt.scatter(x, y, s=8)"
   ]
  },
  {
   "cell_type": "code",
   "execution_count": 2,
   "metadata": {},
   "outputs": [],
   "source": [
    "import torch\n",
    "\n",
    "class MyDataset(torch.utils.data.Dataset):\n",
    "    def __init__(self, x, y):\n",
    "        # store the inputs and outputs\n",
    "        self.X = x\n",
    "        self.y = y\n",
    "        # ensure data is float\n",
    "        self.X = self.X.astype('float32')\n",
    "        self.y = self.y.astype('float32')\n",
    " \n",
    "    # number of rows in the dataset\n",
    "    def __len__(self):\n",
    "        return len(self.X)\n",
    " \n",
    "    # get a row at an index\n",
    "    def __getitem__(self, idx):\n",
    "        return [self.X[idx], self.y[idx]]"
   ]
  },
  {
   "cell_type": "code",
   "execution_count": 18,
   "metadata": {},
   "outputs": [],
   "source": [
    "x_train = x.reshape(-1, 1).astype('float32')\n",
    "y_train = y.reshape(-1, 1).astype('float32')\n",
    "\n",
    "ds = MyDataset(x_train, y_train)\n",
    "dl = torch.utils.data.DataLoader(ds, batch_size=16, shuffle=True)"
   ]
  },
  {
   "cell_type": "code",
   "execution_count": 15,
   "metadata": {},
   "outputs": [],
   "source": [
    "import torch.nn as nn\n",
    "from torch.nn.init import xavier_uniform_\n",
    "\n",
    "class MLP(nn.Module):\n",
    "    def __init__(self, input_dim, output_dim):\n",
    "        super(MLP, self).__init__()\n",
    "        # input to first hidden layer\n",
    "        self.hidden1 = nn.Linear(input_dim, 10)\n",
    "        xavier_uniform_(self.hidden1.weight)\n",
    "        self.act1 = nn.Sigmoid()\n",
    "        # second hidden layer\n",
    "        self.hidden2 = nn.Linear(10, 8)\n",
    "        xavier_uniform_(self.hidden2.weight)\n",
    "        self.act2 = nn.Sigmoid()\n",
    "        # third hidden layer and output\n",
    "        self.hidden3 = nn.Linear(8, output_dim)\n",
    "        xavier_uniform_(self.hidden3.weight)\n",
    "\n",
    "    def forward(self, x):\n",
    "        # input to first hidden layer\n",
    "        X = self.hidden1(x)\n",
    "        X = self.act1(X)\n",
    "        # second hidden layer\n",
    "        X = self.hidden2(X)\n",
    "        X = self.act2(X)\n",
    "        # third hidden layer and output\n",
    "        X = self.hidden3(X)\n",
    "        return X\n"
   ]
  },
  {
   "cell_type": "code",
   "execution_count": 19,
   "metadata": {},
   "outputs": [
    {
     "name": "stdout",
     "output_type": "stream",
     "text": [
      "Loss:  tensor(10.4839, grad_fn=<MseLossBackward>)\n",
      "Loss:  tensor(14.8010, grad_fn=<MseLossBackward>)\n",
      "Loss:  tensor(4.4856, grad_fn=<MseLossBackward>)\n",
      "Loss:  tensor(3.5429, grad_fn=<MseLossBackward>)\n",
      "Loss:  tensor(1.3348, grad_fn=<MseLossBackward>)\n",
      "Loss:  tensor(4.7245, grad_fn=<MseLossBackward>)\n",
      "Loss:  tensor(4.9538, grad_fn=<MseLossBackward>)\n",
      "Loss:  tensor(2.0179, grad_fn=<MseLossBackward>)\n",
      "Loss:  tensor(1.0711, grad_fn=<MseLossBackward>)\n",
      "Loss:  tensor(3.3229, grad_fn=<MseLossBackward>)\n"
     ]
    }
   ],
   "source": [
    "from torch.autograd import Variable\n",
    "\n",
    "input_dim = x_train.shape[1]\n",
    "output_dim = y_train.shape[1]\n",
    "model = MLP(input_dim, output_dim)\n",
    "\n",
    "# define the loss fucntion and the optimization method\n",
    "criterion = nn.MSELoss()\n",
    "optimizer = torch.optim.SGD(model.parameters(), lr=0.01, momentum=0.9)\n",
    "\n",
    "# enumerate epochs\n",
    "for epoch in range(100):\n",
    "    # enumerate mini batches\n",
    "    for i, (inputs, targets) in enumerate(dl):\n",
    "        # clear the gradients\n",
    "        optimizer.zero_grad()\n",
    "        # compute the model output\n",
    "        yhat = model(inputs)\n",
    "        # calculate loss\n",
    "        loss = criterion(yhat, targets)\n",
    "        # credit assignment\n",
    "        loss.backward()\n",
    "        # update model weights\n",
    "        optimizer.step()\n",
    "    if epoch % 10 == 0:\n",
    "        print(\"Loss: \", loss)\n"
   ]
  },
  {
   "cell_type": "code",
   "execution_count": 21,
   "metadata": {},
   "outputs": [
    {
     "data": {
      "image/png": "[encoded data removed]",
      "text/plain": [
       "<Figure size 432x288 with 1 Axes>"
      ]
     },
     "metadata": {},
     "output_type": "display_data"
    }
   ],
   "source": [
    "def plot_current_fit(model):\n",
    "    plt.figure()\n",
    "    plt.scatter(x, y, s = 8)\n",
    "    x_line = np.linspace(min_x, max_x, 10).reshape(-1, 1).astype('float32')\n",
    "    y_line = model(torch.from_numpy(x_line)).detach().numpy()\n",
    "    \n",
    "    plt.plot(x_line, y_line, 'r', label = 'Current Fit')\n",
    "    plt.xlabel('x (input)')\n",
    "    plt.ylabel('y (target)')\n",
    "    plt.legend()\n",
    "    plt.show()\n",
    "\n",
    "plot_current_fit(model=model)"
   ]
  },
  {
   "cell_type": "markdown",
   "metadata": {},
   "source": [
    "Fontes:\n",
    "- https://fleuret.org/dlc/\n",
    "- https://www.tutorialspoint.com/pytorch/index.htm\n",
    "- https://jhui.github.io/2018/02/09/PyTorch-Variables-functionals-and-Autograd/\n",
    "- https://towardsdatascience.com/understanding-pytorch-with-an-example-a-step-by-step-tutorial-81fc5f8c4e8e\n",
    "- https://machinelearningmastery.com/pytorch-tutorial-develop-deep-learning-models/"
   ]
  },
  {
   "cell_type": "code",
   "execution_count": null,
   "metadata": {},
   "outputs": [],
   "source": []
  }
 ],
 "metadata": {
  "kernelspec": {
   "display_name": "Python 3",
   "language": "python",
   "name": "python3"
  },
  "language_info": {
   "codemirror_mode": {
    "name": "ipython",
    "version": 3
   },
   "file_extension": ".py",
   "mimetype": "text/x-python",
   "name": "python",
   "nbconvert_exporter": "python",
   "pygments_lexer": "ipython3",
   "version": "3.7.9"
  }
 },
 "nbformat": 4,
 "nbformat_minor": 4
}
